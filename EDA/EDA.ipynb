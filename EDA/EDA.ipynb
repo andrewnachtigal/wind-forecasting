{
 "cells": [
  {
   "cell_type": "code",
   "execution_count": null,
   "metadata": {},
   "outputs": [],
   "source": []
  },
  {
   "cell_type": "markdown",
   "metadata": {},
   "source": [
    "# Europe Wind Farm Data Exploration"
   ]
  },
  {
   "cell_type": "code",
   "execution_count": null,
   "metadata": {},
   "outputs": [],
   "source": []
  },
  {
   "cell_type": "markdown",
   "metadata": {},
   "source": [
    "## Data Description\n",
    "\n",
    "The EuropeWindFarm data\n",
    "set containing the day-ahead forecasts of 45 wind farms\n",
    "(off- and onshore) scattered over the European continent as\n",
    "shown in Fig. 6. The data set contains hourly averaged wind\n",
    "power generation time series for two consecutive years and\n",
    "the corresponding day-ahead meteorological forecasts using\n",
    "the European Centre for Medium-Range Weather Forecasts\n",
    "(ECMWF) weather model. \n",
    "\n",
    "The power generation time series are normalized with the\n",
    "respective nominal capacity of the wind farm in order to\n",
    "enable a scale-free comparison and to mask the original\n",
    "characteristics of the wind farm. Additionally, all weather\n",
    "situations are normalized in the range [0..1]. The data set is\n",
    "pre-filtered to discard any period of time longer than 24h in\n",
    "which no energy has been produced, as this is an indicator\n",
    "of a wind farm malfunction.\n",
    "\n",
    "The data set contains the\n",
    "following data items:\n",
    "\n",
    "- Time Stamp of the forecast / power measurement\n",
    "\n",
    "__Forecasts__\n",
    "- Forecasting Time Step - Time between the creation of the forecast to the forecasted point in time  \n",
    "- Wind Speed in 100m height\n",
    "- Wind Speed in 10m height\n",
    "- Wind Direction (zonal) in 100m height\n",
    "- Wind Direction (meridional) in 100m height\n",
    "- Air Pressure Forecast of the measurement\n",
    "- Air Temperature Forecast of the measurement  \n",
    "\n",
    "__Power Observations__\n",
    "- Wind Farm Power Generation Observations \n"
   ]
  },
  {
   "cell_type": "markdown",
   "metadata": {},
   "source": [
    "# Import Libraries Modules"
   ]
  },
  {
   "cell_type": "code",
   "execution_count": 1,
   "metadata": {
    "collapsed": true
   },
   "outputs": [],
   "source": [
    "%matplotlib inline\n",
    "import numpy as np\n",
    "import pandas as pd\n",
    "import matplotlib.pyplot as plt\n",
    "\n",
    "import seaborn as sns\n",
    "from IPython.display import display"
   ]
  },
  {
   "cell_type": "markdown",
   "metadata": {},
   "source": [
    "### Algorithm for reading multiple csvs at once\n",
    "\n",
    "__0. Set path folder (wind farm data)__\n",
    "\n",
    "__1. FOR LOOOP on .csv files__\n",
    "    #### IN FOR LOOP:\n",
    "    * read csv file, savre it in a dataframe\n",
    "    * save number of rows (length)\n",
    "    * save number of columns\n",
    "    * save df\n",
    "   \n",
    "__2. Get a list (or array) containing (at least) each df for each csv file.__\n",
    "\n",
    "__3. Explore different df__\n"
   ]
  },
  {
   "cell_type": "code",
   "execution_count": 2,
   "metadata": {},
   "outputs": [],
   "source": [
    "wf_path = '/Users/andrewnachtigal/Documents/DSR/dsr_project/dsr_project/EuropeWindFarm/wind_forecast_cleanup/wind_forecasting_cleanup/data'"
   ]
  },
  {
   "cell_type": "code",
   "execution_count": 3,
   "metadata": {},
   "outputs": [
    {
     "data": {
      "text/plain": [
       "['wf1.csv', 'wf3.csv', 'wf2.csv']"
      ]
     },
     "execution_count": 3,
     "metadata": {},
     "output_type": "execute_result"
    }
   ],
   "source": [
    "# save all csv files in a dataframe\n",
    "import csv\n",
    "import os\n",
    "import glob\n",
    "# glob.glob('*.csv') # find all csv files in a pathname\n",
    "os.chdir(wf_path)\n",
    "csv_files = [i for i in glob.glob('*.csv')]\n",
    "csv_files"
   ]
  },
  {
   "cell_type": "code",
   "execution_count": 4,
   "metadata": {},
   "outputs": [
    {
     "data": {
      "text/plain": [
       "[(16920, 9), (15927, 9), (11856, 9)]"
      ]
     },
     "execution_count": 4,
     "metadata": {},
     "output_type": "execute_result"
    }
   ],
   "source": [
    "# Read each csv file and store in a dictionary containing file name and dataframe\n",
    "import ntpath\n",
    "dict_files={}\n",
    "files_names=[]\n",
    "for files in csv_files:\n",
    "    df = pd.read_csv(files,engine='python',index_col=0, parse_dates=True)\n",
    "    basepath, filename=ntpath.split(files)\n",
    "    files_names.append(filename)\n",
    "    dict_files[filename]=df\n",
    "#list(dict_files.keys()\n",
    "\n",
    "# Calculate number of rows and features for each df and store in a list of tuples\n",
    "shape_df=[]\n",
    "for i in range(0,len(dict_files.keys())):\n",
    "    nrows, ncols=(len(dict_files[files_names[i]]), len(dict_files[files_names[i]].columns))\n",
    "    shape_df.append((nrows,ncols))\n",
    "shape_df"
   ]
  },
  {
   "cell_type": "code",
   "execution_count": 5,
   "metadata": {},
   "outputs": [
    {
     "data": {
      "text/html": [
       "<div>\n",
       "<style scoped>\n",
       "    .dataframe tbody tr th:only-of-type {\n",
       "        vertical-align: middle;\n",
       "    }\n",
       "\n",
       "    .dataframe tbody tr th {\n",
       "        vertical-align: top;\n",
       "    }\n",
       "\n",
       "    .dataframe thead th {\n",
       "        text-align: right;\n",
       "    }\n",
       "</style>\n",
       "<table border=\"1\" class=\"dataframe\">\n",
       "  <thead>\n",
       "    <tr style=\"text-align: right;\">\n",
       "      <th></th>\n",
       "      <th>ForecastingTime</th>\n",
       "      <th>AirPressure</th>\n",
       "      <th>Temperature</th>\n",
       "      <th>Humidity</th>\n",
       "      <th>WindSpeed100m</th>\n",
       "      <th>WindSpeed10m</th>\n",
       "      <th>WindDirectionZonal</th>\n",
       "      <th>WindDirectionMeridional</th>\n",
       "      <th>PowerGeneration</th>\n",
       "    </tr>\n",
       "    <tr>\n",
       "      <th>Time</th>\n",
       "      <th></th>\n",
       "      <th></th>\n",
       "      <th></th>\n",
       "      <th></th>\n",
       "      <th></th>\n",
       "      <th></th>\n",
       "      <th></th>\n",
       "      <th></th>\n",
       "      <th></th>\n",
       "    </tr>\n",
       "  </thead>\n",
       "  <tbody>\n",
       "    <tr>\n",
       "      <th>0000-01-01 01:00:00</th>\n",
       "      <td>25</td>\n",
       "      <td>0.392238</td>\n",
       "      <td>0.406113</td>\n",
       "      <td>0.638134</td>\n",
       "      <td>0.625094</td>\n",
       "      <td>0.548931</td>\n",
       "      <td>0.820776</td>\n",
       "      <td>0.883540</td>\n",
       "      <td>0.506970</td>\n",
       "    </tr>\n",
       "    <tr>\n",
       "      <th>0000-01-01 02:00:00</th>\n",
       "      <td>26</td>\n",
       "      <td>0.379920</td>\n",
       "      <td>0.405190</td>\n",
       "      <td>0.614377</td>\n",
       "      <td>0.628325</td>\n",
       "      <td>0.563099</td>\n",
       "      <td>0.812227</td>\n",
       "      <td>0.890531</td>\n",
       "      <td>0.579394</td>\n",
       "    </tr>\n",
       "    <tr>\n",
       "      <th>0000-01-01 03:00:00</th>\n",
       "      <td>27</td>\n",
       "      <td>0.367603</td>\n",
       "      <td>0.404268</td>\n",
       "      <td>0.590621</td>\n",
       "      <td>0.631556</td>\n",
       "      <td>0.577266</td>\n",
       "      <td>0.803525</td>\n",
       "      <td>0.897331</td>\n",
       "      <td>0.524848</td>\n",
       "    </tr>\n",
       "    <tr>\n",
       "      <th>0000-01-01 04:00:00</th>\n",
       "      <td>28</td>\n",
       "      <td>0.360061</td>\n",
       "      <td>0.401325</td>\n",
       "      <td>0.598596</td>\n",
       "      <td>0.629573</td>\n",
       "      <td>0.582233</td>\n",
       "      <td>0.791599</td>\n",
       "      <td>0.906165</td>\n",
       "      <td>0.543939</td>\n",
       "    </tr>\n",
       "    <tr>\n",
       "      <th>0000-01-01 05:00:00</th>\n",
       "      <td>29</td>\n",
       "      <td>0.352519</td>\n",
       "      <td>0.398381</td>\n",
       "      <td>0.606571</td>\n",
       "      <td>0.627590</td>\n",
       "      <td>0.587199</td>\n",
       "      <td>0.779416</td>\n",
       "      <td>0.914640</td>\n",
       "      <td>0.620606</td>\n",
       "    </tr>\n",
       "  </tbody>\n",
       "</table>\n",
       "</div>"
      ],
      "text/plain": [
       "                     ForecastingTime  AirPressure  Temperature  Humidity  \\\n",
       "Time                                                                       \n",
       "0000-01-01 01:00:00               25     0.392238     0.406113  0.638134   \n",
       "0000-01-01 02:00:00               26     0.379920     0.405190  0.614377   \n",
       "0000-01-01 03:00:00               27     0.367603     0.404268  0.590621   \n",
       "0000-01-01 04:00:00               28     0.360061     0.401325  0.598596   \n",
       "0000-01-01 05:00:00               29     0.352519     0.398381  0.606571   \n",
       "\n",
       "                     WindSpeed100m  WindSpeed10m  WindDirectionZonal  \\\n",
       "Time                                                                   \n",
       "0000-01-01 01:00:00       0.625094      0.548931            0.820776   \n",
       "0000-01-01 02:00:00       0.628325      0.563099            0.812227   \n",
       "0000-01-01 03:00:00       0.631556      0.577266            0.803525   \n",
       "0000-01-01 04:00:00       0.629573      0.582233            0.791599   \n",
       "0000-01-01 05:00:00       0.627590      0.587199            0.779416   \n",
       "\n",
       "                     WindDirectionMeridional  PowerGeneration  \n",
       "Time                                                           \n",
       "0000-01-01 01:00:00                 0.883540         0.506970  \n",
       "0000-01-01 02:00:00                 0.890531         0.579394  \n",
       "0000-01-01 03:00:00                 0.897331         0.524848  \n",
       "0000-01-01 04:00:00                 0.906165         0.543939  \n",
       "0000-01-01 05:00:00                 0.914640         0.620606  "
      ]
     },
     "execution_count": 5,
     "metadata": {},
     "output_type": "execute_result"
    }
   ],
   "source": [
    "df = dict_files[files_names[0]]\n",
    "df.head()"
   ]
  },
  {
   "cell_type": "code",
   "execution_count": 6,
   "metadata": {},
   "outputs": [
    {
     "name": "stdout",
     "output_type": "stream",
     "text": [
      "<class 'pandas.core.frame.DataFrame'>\n",
      "Index: 16920 entries, 0000-01-01 01:00:00 to 0001-12-30 22:00:00\n",
      "Data columns (total 9 columns):\n",
      "ForecastingTime            16920 non-null int64\n",
      "AirPressure                16920 non-null float64\n",
      "Temperature                16920 non-null float64\n",
      "Humidity                   16920 non-null float64\n",
      "WindSpeed100m              16920 non-null float64\n",
      "WindSpeed10m               16920 non-null float64\n",
      "WindDirectionZonal         16920 non-null float64\n",
      "WindDirectionMeridional    16920 non-null float64\n",
      "PowerGeneration            16920 non-null float64\n",
      "dtypes: float64(8), int64(1)\n",
      "memory usage: 1.3+ MB\n"
     ]
    }
   ],
   "source": [
    "df.info()"
   ]
  },
  {
   "cell_type": "code",
   "execution_count": 7,
   "metadata": {},
   "outputs": [
    {
     "data": {
      "text/plain": [
       "Index(['0000-01-01 01:00:00', '0000-01-01 02:00:00', '0000-01-01 03:00:00',\n",
       "       '0000-01-01 04:00:00', '0000-01-01 05:00:00', '0000-01-01 06:00:00',\n",
       "       '0000-01-01 07:00:00', '0000-01-01 08:00:00', '0000-01-01 09:00:00',\n",
       "       '0000-01-01 10:00:00',\n",
       "       ...\n",
       "       '0001-12-30 13:00:00', '0001-12-30 14:00:00', '0001-12-30 15:00:00',\n",
       "       '0001-12-30 16:00:00', '0001-12-30 17:00:00', '0001-12-30 18:00:00',\n",
       "       '0001-12-30 19:00:00', '0001-12-30 20:00:00', '0001-12-30 21:00:00',\n",
       "       '0001-12-30 22:00:00'],\n",
       "      dtype='object', name='Time', length=16920)"
      ]
     },
     "execution_count": 7,
     "metadata": {},
     "output_type": "execute_result"
    }
   ],
   "source": [
    "df.index"
   ]
  },
  {
   "cell_type": "code",
   "execution_count": 8,
   "metadata": {},
   "outputs": [
    {
     "data": {
      "text/html": [
       "<div>\n",
       "<style scoped>\n",
       "    .dataframe tbody tr th:only-of-type {\n",
       "        vertical-align: middle;\n",
       "    }\n",
       "\n",
       "    .dataframe tbody tr th {\n",
       "        vertical-align: top;\n",
       "    }\n",
       "\n",
       "    .dataframe thead th {\n",
       "        text-align: right;\n",
       "    }\n",
       "</style>\n",
       "<table border=\"1\" class=\"dataframe\">\n",
       "  <thead>\n",
       "    <tr style=\"text-align: right;\">\n",
       "      <th></th>\n",
       "      <th>ForecastingTime</th>\n",
       "      <th>AirPressure</th>\n",
       "      <th>Temperature</th>\n",
       "      <th>Humidity</th>\n",
       "      <th>WindSpeed100m</th>\n",
       "      <th>WindSpeed10m</th>\n",
       "      <th>WindDirectionZonal</th>\n",
       "      <th>WindDirectionMeridional</th>\n",
       "      <th>PowerGeneration</th>\n",
       "    </tr>\n",
       "  </thead>\n",
       "  <tbody>\n",
       "    <tr>\n",
       "      <th>2000-01-01 01:00:00</th>\n",
       "      <td>25</td>\n",
       "      <td>0.392238</td>\n",
       "      <td>0.406113</td>\n",
       "      <td>0.638134</td>\n",
       "      <td>0.625094</td>\n",
       "      <td>0.548931</td>\n",
       "      <td>0.820776</td>\n",
       "      <td>0.883540</td>\n",
       "      <td>0.506970</td>\n",
       "    </tr>\n",
       "    <tr>\n",
       "      <th>2000-01-01 02:00:00</th>\n",
       "      <td>26</td>\n",
       "      <td>0.379920</td>\n",
       "      <td>0.405190</td>\n",
       "      <td>0.614377</td>\n",
       "      <td>0.628325</td>\n",
       "      <td>0.563099</td>\n",
       "      <td>0.812227</td>\n",
       "      <td>0.890531</td>\n",
       "      <td>0.579394</td>\n",
       "    </tr>\n",
       "    <tr>\n",
       "      <th>2000-01-01 03:00:00</th>\n",
       "      <td>27</td>\n",
       "      <td>0.367603</td>\n",
       "      <td>0.404268</td>\n",
       "      <td>0.590621</td>\n",
       "      <td>0.631556</td>\n",
       "      <td>0.577266</td>\n",
       "      <td>0.803525</td>\n",
       "      <td>0.897331</td>\n",
       "      <td>0.524848</td>\n",
       "    </tr>\n",
       "    <tr>\n",
       "      <th>2000-01-01 04:00:00</th>\n",
       "      <td>28</td>\n",
       "      <td>0.360061</td>\n",
       "      <td>0.401325</td>\n",
       "      <td>0.598596</td>\n",
       "      <td>0.629573</td>\n",
       "      <td>0.582233</td>\n",
       "      <td>0.791599</td>\n",
       "      <td>0.906165</td>\n",
       "      <td>0.543939</td>\n",
       "    </tr>\n",
       "    <tr>\n",
       "      <th>2000-01-01 05:00:00</th>\n",
       "      <td>29</td>\n",
       "      <td>0.352519</td>\n",
       "      <td>0.398381</td>\n",
       "      <td>0.606571</td>\n",
       "      <td>0.627590</td>\n",
       "      <td>0.587199</td>\n",
       "      <td>0.779416</td>\n",
       "      <td>0.914640</td>\n",
       "      <td>0.620606</td>\n",
       "    </tr>\n",
       "  </tbody>\n",
       "</table>\n",
       "</div>"
      ],
      "text/plain": [
       "                     ForecastingTime  AirPressure  Temperature  Humidity  \\\n",
       "2000-01-01 01:00:00               25     0.392238     0.406113  0.638134   \n",
       "2000-01-01 02:00:00               26     0.379920     0.405190  0.614377   \n",
       "2000-01-01 03:00:00               27     0.367603     0.404268  0.590621   \n",
       "2000-01-01 04:00:00               28     0.360061     0.401325  0.598596   \n",
       "2000-01-01 05:00:00               29     0.352519     0.398381  0.606571   \n",
       "\n",
       "                     WindSpeed100m  WindSpeed10m  WindDirectionZonal  \\\n",
       "2000-01-01 01:00:00       0.625094      0.548931            0.820776   \n",
       "2000-01-01 02:00:00       0.628325      0.563099            0.812227   \n",
       "2000-01-01 03:00:00       0.631556      0.577266            0.803525   \n",
       "2000-01-01 04:00:00       0.629573      0.582233            0.791599   \n",
       "2000-01-01 05:00:00       0.627590      0.587199            0.779416   \n",
       "\n",
       "                     WindDirectionMeridional  PowerGeneration  \n",
       "2000-01-01 01:00:00                 0.883540         0.506970  \n",
       "2000-01-01 02:00:00                 0.890531         0.579394  \n",
       "2000-01-01 03:00:00                 0.897331         0.524848  \n",
       "2000-01-01 04:00:00                 0.906165         0.543939  \n",
       "2000-01-01 05:00:00                 0.914640         0.620606  "
      ]
     },
     "execution_count": 8,
     "metadata": {},
     "output_type": "execute_result"
    }
   ],
   "source": [
    "# fix dates\n",
    "new_index = []\n",
    "for stamp in df.index:\n",
    "    new = '2' + stamp[1:]\n",
    "    new_index.append(new)\n",
    "    \n",
    "df.index = pd.to_datetime(new_index)\n",
    "\n",
    "df.head()"
   ]
  },
  {
   "cell_type": "code",
   "execution_count": 9,
   "metadata": {},
   "outputs": [],
   "source": [
    "\n",
    "df = df[['PowerGeneration',    \n",
    " 'ForecastingTime',\n",
    " 'AirPressure',\n",
    " 'Temperature',\n",
    " 'Humidity',\n",
    " 'WindSpeed100m',\n",
    " 'WindSpeed10m',\n",
    " 'WindDirectionZonal',\n",
    " 'WindDirectionMeridional']]"
   ]
  }
 ],
 "metadata": {
  "kernelspec": {
   "display_name": "Python 3",
   "language": "python",
   "name": "python3"
  },
  "language_info": {
   "codemirror_mode": {
    "name": "ipython",
    "version": 3
   },
   "file_extension": ".py",
   "mimetype": "text/x-python",
   "name": "python",
   "nbconvert_exporter": "python",
   "pygments_lexer": "ipython3",
   "version": "3.6.5"
  }
 },
 "nbformat": 4,
 "nbformat_minor": 2
}
