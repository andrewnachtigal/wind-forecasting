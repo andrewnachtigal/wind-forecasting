{
 "cells": [
  {
   "cell_type": "code",
   "execution_count": null,
   "metadata": {},
   "outputs": [],
   "source": []
  },
  {
   "cell_type": "markdown",
   "metadata": {},
   "source": [
    "# Europe Wind Farm Data Exploration"
   ]
  },
  {
   "cell_type": "code",
   "execution_count": null,
   "metadata": {},
   "outputs": [],
   "source": []
  },
  {
   "cell_type": "markdown",
   "metadata": {},
   "source": [
    "## Data Description\n",
    "\n",
    "The EuropeWindFarm data\n",
    "set containing the day-ahead forecasts of 45 wind farms\n",
    "(off- and onshore) scattered over the European continent as\n",
    "shown in Fig. 6. The data set contains hourly averaged wind\n",
    "power generation time series for two consecutive years and\n",
    "the corresponding day-ahead meteorological forecasts using\n",
    "the European Centre for Medium-Range Weather Forecasts\n",
    "(ECMWF) weather model. \n",
    "\n",
    "The power generation time series are normalized with the\n",
    "respective nominal capacity of the wind farm in order to\n",
    "enable a scale-free comparison and to mask the original\n",
    "characteristics of the wind farm. Additionally, all weather\n",
    "situations are normalized in the range [0..1]. The data set is\n",
    "pre-filtered to discard any period of time longer than 24h in\n",
    "which no energy has been produced, as this is an indicator\n",
    "of a wind farm malfunction.\n",
    "\n",
    "The data set contains the\n",
    "following data items:\n",
    "\n",
    "- Time Stamp of the forecast / power measurement\n",
    "\n",
    "__Forecasts__\n",
    "- Forecasting Time Step - Time between the creation of the forecast to the forecasted point in time  \n",
    "- Wind Speed in 100m height\n",
    "- Wind Speed in 10m height\n",
    "- Wind Direction (zonal) in 100m height\n",
    "- Wind Direction (meridional) in 100m height\n",
    "- Air Pressure Forecast of the measurement\n",
    "- Air Temperature Forecast of the measurement  \n",
    "\n",
    "__Power Observations__\n",
    "- Wind Farm Power Generation Observations \n"
   ]
  },
  {
   "cell_type": "code",
   "execution_count": null,
   "metadata": {},
   "outputs": [],
   "source": []
  },
  {
   "cell_type": "markdown",
   "metadata": {},
   "source": [
    "# Import Libraries Modules"
   ]
  },
  {
   "cell_type": "code",
   "execution_count": 5,
   "metadata": {
    "collapsed": true
   },
   "outputs": [],
   "source": [
    "%matplotlib inline\n",
    "import numpy as np\n",
    "import pandas as pd\n",
    "import matplotlib.pyplot as plt\n",
    "\n",
    "import seaborn as sns\n",
    "from IPython.display import display"
   ]
  }
 ],
 "metadata": {
  "kernelspec": {
   "display_name": "Python 3",
   "language": "python",
   "name": "python3"
  },
  "language_info": {
   "codemirror_mode": {
    "name": "ipython",
    "version": 3
   },
   "file_extension": ".py",
   "mimetype": "text/x-python",
   "name": "python",
   "nbconvert_exporter": "python",
   "pygments_lexer": "ipython3",
   "version": "3.6.5"
  }
 },
 "nbformat": 4,
 "nbformat_minor": 2
}
